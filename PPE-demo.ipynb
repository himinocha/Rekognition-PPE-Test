{
 "cells": [
  {
   "cell_type": "code",
   "execution_count": 20,
   "id": "e6f176e0",
   "metadata": {},
   "outputs": [],
   "source": [
    "import boto3"
   ]
  },
  {
   "cell_type": "code",
   "execution_count": 21,
   "id": "9129e74f",
   "metadata": {},
   "outputs": [],
   "source": [
    "client=boto3.client('rekognition')"
   ]
  },
  {
   "cell_type": "markdown",
   "id": "4db7d483",
   "metadata": {},
   "source": [
    "<img src=\"https://qtm350-fp.s3.amazonaws.com/image-asset/1684177591-huge.jpg\">"
   ]
  },
  {
   "cell_type": "code",
   "execution_count": 22,
   "id": "1ca14ca5",
   "metadata": {},
   "outputs": [],
   "source": [
    "response = client.detect_protective_equipment(Image={'S3Object':{'Bucket':\"qtm350-fp\",'Name':\"image-asset/1684177591-huge.jpg\"}})"
   ]
  },
  {
   "cell_type": "code",
   "execution_count": 23,
   "id": "20832143",
   "metadata": {},
   "outputs": [
    {
     "name": "stdout",
     "output_type": "stream",
     "text": [
      "Number of Person detected: 5\n"
     ]
    },
    {
     "data": {
      "text/plain": [
       "{'BodyParts': [{'Name': 'FACE',\n",
       "   'Confidence': 99.45880889892578,\n",
       "   'EquipmentDetections': [{'BoundingBox': {'Width': 0.11314176768064499,\n",
       "      'Height': 0.17282824218273163,\n",
       "      'Left': 0.0724487230181694,\n",
       "      'Top': 0.20657315850257874},\n",
       "     'Confidence': 99.93412780761719,\n",
       "     'Type': 'FACE_COVER',\n",
       "     'CoversBodyPart': {'Confidence': 90.72356414794922, 'Value': True}}]},\n",
       "  {'Name': 'HEAD',\n",
       "   'Confidence': 99.96925354003906,\n",
       "   'EquipmentDetections': [{'BoundingBox': {'Width': 0.2119455337524414,\n",
       "      'Height': 0.1852755844593048,\n",
       "      'Left': 0.0,\n",
       "      'Top': 0.0034638824872672558},\n",
       "     'Confidence': 68.63182067871094,\n",
       "     'Type': 'HEAD_COVER',\n",
       "     'CoversBodyPart': {'Confidence': 95.6654052734375, 'Value': True}}]}],\n",
       " 'BoundingBox': {'Width': 0.33300265669822693,\n",
       "  'Height': 0.9662865400314331,\n",
       "  'Left': 0.0,\n",
       "  'Top': 0.012890431098639965},\n",
       " 'Confidence': 99.96501159667969,\n",
       " 'Id': 0}"
      ]
     },
     "execution_count": 23,
     "metadata": {},
     "output_type": "execute_result"
    }
   ],
   "source": [
    "print(f\"Number of Person detected: {len(response['Persons'])}\")\n",
    "response['Persons'][0]"
   ]
  },
  {
   "cell_type": "code",
   "execution_count": null,
   "id": "25147396",
   "metadata": {},
   "outputs": [],
   "source": []
  }
 ],
 "metadata": {
  "kernelspec": {
   "display_name": "conda_python3",
   "language": "python",
   "name": "conda_python3"
  },
  "language_info": {
   "codemirror_mode": {
    "name": "ipython",
    "version": 3
   },
   "file_extension": ".py",
   "mimetype": "text/x-python",
   "name": "python",
   "nbconvert_exporter": "python",
   "pygments_lexer": "ipython3",
   "version": "3.6.13"
  }
 },
 "nbformat": 4,
 "nbformat_minor": 5
}
